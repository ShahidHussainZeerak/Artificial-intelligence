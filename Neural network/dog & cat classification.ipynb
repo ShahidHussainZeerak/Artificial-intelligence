{
 "cells": [
  {
   "cell_type": "markdown",
   "id": "646b5c80",
   "metadata": {},
   "source": [
    "# wednesday class"
   ]
  },
  {
   "cell_type": "code",
   "execution_count": 1,
   "id": "2f0f41ec",
   "metadata": {},
   "outputs": [],
   "source": [
    "import numpy as np\n",
    "import tensorflow as tf\n",
    "import matplotlib.pyplot as plt\n",
    "import pandas as pd\n",
    "from tensorflow import keras\n",
    "from tensorflow.keras.preprocessing .image import ImageDataGenerator\n",
    "%matplotlib inline"
   ]
  },
  {
   "cell_type": "code",
   "execution_count": 2,
   "id": "21fda1ea",
   "metadata": {},
   "outputs": [],
   "source": [
    "train_path=\"A:/AI/Neural network/dataset/Train1\""
   ]
  },
  {
   "cell_type": "code",
   "execution_count": 3,
   "id": "11171ae8",
   "metadata": {},
   "outputs": [],
   "source": [
    "val_path=\"A:/AI/Neural network/dataset/Test1\""
   ]
  },
  {
   "cell_type": "code",
   "execution_count": 4,
   "id": "8a8aceb3",
   "metadata": {},
   "outputs": [],
   "source": [
    "val_datagen=ImageDataGenerator(rescale=1./255,\n",
    "                               horizontal_flip=True,\n",
    "                               brightness_range=(0.8,1.5),\n",
    "                               rotation_range=45)"
   ]
  },
  {
   "cell_type": "code",
   "execution_count": 5,
   "id": "0806e6c8",
   "metadata": {},
   "outputs": [],
   "source": [
    "train_datagen=ImageDataGenerator(rescale=1./255,\n",
    "                               horizontal_flip=True,\n",
    "                               brightness_range=(0.8,1.5),\n",
    "                               rotation_range=45)"
   ]
  },
  {
   "cell_type": "code",
   "execution_count": 6,
   "id": "56d8eeaa",
   "metadata": {},
   "outputs": [
    {
     "name": "stdout",
     "output_type": "stream",
     "text": [
      "Found 1100 images belonging to 2 classes.\n"
     ]
    }
   ],
   "source": [
    "train_generator=train_datagen.flow_from_directory(train_path,target_size=(224,224),class_mode=\"categorical\",color_mode=\"rgb\")"
   ]
  },
  {
   "cell_type": "code",
   "execution_count": 7,
   "id": "0efca168",
   "metadata": {},
   "outputs": [
    {
     "name": "stdout",
     "output_type": "stream",
     "text": [
      "Found 1100 images belonging to 2 classes.\n"
     ]
    }
   ],
   "source": [
    "validation_generator=val_datagen.flow_from_directory(train_path,target_size=(224,224),class_mode=\"categorical\",color_mode=\"rgb\")"
   ]
  },
  {
   "cell_type": "markdown",
   "id": "e2e534bb",
   "metadata": {},
   "source": [
    "# New slection"
   ]
  },
  {
   "cell_type": "code",
   "execution_count": 8,
   "id": "03ca260c",
   "metadata": {},
   "outputs": [
    {
     "name": "stdout",
     "output_type": "stream",
     "text": [
      "15\n"
     ]
    }
   ],
   "source": [
    "steps=len(\"train_generator\")\n",
    "print(steps)"
   ]
  },
  {
   "cell_type": "markdown",
   "id": "a1462893",
   "metadata": {},
   "source": [
    "# Defining a model"
   ]
  },
  {
   "cell_type": "code",
   "execution_count": 9,
   "id": "231682ac",
   "metadata": {},
   "outputs": [],
   "source": [
    "model=tf.keras.models.Sequential()"
   ]
  },
  {
   "cell_type": "markdown",
   "id": "cb441927",
   "metadata": {},
   "source": [
    "# adding layers"
   ]
  },
  {
   "cell_type": "code",
   "execution_count": 10,
   "id": "245afe3b",
   "metadata": {},
   "outputs": [],
   "source": [
    "#Adding the first convolutional layer\n",
    "model.add(tf.keras.layers.Conv2D(filters=32,kernel_size=3,padding='same',activation='relu',input_shape=[224,224,3]))"
   ]
  },
  {
   "cell_type": "code",
   "execution_count": 11,
   "id": "5ea6725e",
   "metadata": {},
   "outputs": [],
   "source": [
    "#Adding the second convolutional layer \n",
    "model.add(tf.keras.layers.MaxPool2D(pool_size=2,strides=2,padding=\"valid\"))"
   ]
  },
  {
   "cell_type": "code",
   "execution_count": 12,
   "id": "6a9e9d62",
   "metadata": {},
   "outputs": [],
   "source": [
    "#adding 3rd convolutional network\n",
    "model.add(tf.keras.layers.Conv2D(filters=64,kernel_size=3,padding=\"same\",activation=\"relu\"))"
   ]
  },
  {
   "cell_type": "code",
   "execution_count": 13,
   "id": "305d0362",
   "metadata": {},
   "outputs": [],
   "source": [
    "model.add(tf.keras.layers.MaxPool2D(pool_size=2,strides=2,padding=\"valid\"))"
   ]
  },
  {
   "cell_type": "markdown",
   "id": "0e2f7af0",
   "metadata": {},
   "source": [
    "# Adding flatten layer"
   ]
  },
  {
   "cell_type": "code",
   "execution_count": 14,
   "id": "e78ea950",
   "metadata": {},
   "outputs": [],
   "source": [
    "model.add(tf.keras.layers.Flatten())"
   ]
  },
  {
   "cell_type": "markdown",
   "id": "44f94867",
   "metadata": {},
   "source": [
    "# Adding first fully connected layer"
   ]
  },
  {
   "cell_type": "code",
   "execution_count": 15,
   "id": "6d610325",
   "metadata": {},
   "outputs": [],
   "source": [
    "model.add(tf.keras.layers.Dense(units=128,activation='relu'))"
   ]
  },
  {
   "cell_type": "markdown",
   "id": "b1629e57",
   "metadata": {},
   "source": [
    "# Adding the output layer"
   ]
  },
  {
   "cell_type": "code",
   "execution_count": 16,
   "id": "55c2585f",
   "metadata": {},
   "outputs": [],
   "source": [
    "model.add(tf.keras.layers.Dense(units=1,activation=\"softmax\"))"
   ]
  },
  {
   "cell_type": "code",
   "execution_count": 17,
   "id": "90a99c3e",
   "metadata": {},
   "outputs": [],
   "source": [
    "model.compile(loss=\"binary_crossentropy\",optimizer=\"Adam\",metrics=[\"accuracy\"])"
   ]
  },
  {
   "cell_type": "code",
   "execution_count": 18,
   "id": "56e4087e",
   "metadata": {},
   "outputs": [
    {
     "name": "stdout",
     "output_type": "stream",
     "text": [
      "Epoch 1/10\n",
      "35/35 [==============================] - 141s 4s/step - loss: 1.8808 - accuracy: 0.5000 - val_loss: 0.6931 - val_accuracy: 0.5000\n",
      "Epoch 2/10\n",
      "35/35 [==============================] - 142s 4s/step - loss: 0.6931 - accuracy: 0.5000 - val_loss: 0.6931 - val_accuracy: 0.5000\n",
      "Epoch 3/10\n",
      "35/35 [==============================] - 159s 5s/step - loss: 0.6931 - accuracy: 0.5000 - val_loss: 0.6931 - val_accuracy: 0.5000\n",
      "Epoch 4/10\n",
      "35/35 [==============================] - 141s 4s/step - loss: 0.6931 - accuracy: 0.5000 - val_loss: 0.6931 - val_accuracy: 0.5000\n",
      "Epoch 5/10\n",
      "35/35 [==============================] - 140s 4s/step - loss: 0.6931 - accuracy: 0.5000 - val_loss: 0.6931 - val_accuracy: 0.5000\n",
      "Epoch 6/10\n",
      "35/35 [==============================] - 140s 4s/step - loss: 0.6931 - accuracy: 0.5000 - val_loss: 0.6931 - val_accuracy: 0.5000\n",
      "Epoch 7/10\n",
      "35/35 [==============================] - 140s 4s/step - loss: 0.6931 - accuracy: 0.5000 - val_loss: 0.6931 - val_accuracy: 0.5000\n",
      "Epoch 8/10\n",
      "35/35 [==============================] - 139s 4s/step - loss: 0.6931 - accuracy: 0.5000 - val_loss: 0.6931 - val_accuracy: 0.5000\n",
      "Epoch 9/10\n",
      "35/35 [==============================] - 139s 4s/step - loss: 0.6931 - accuracy: 0.5000 - val_loss: 0.6931 - val_accuracy: 0.5000\n",
      "Epoch 10/10\n",
      "35/35 [==============================] - 138s 4s/step - loss: 0.6931 - accuracy: 0.5000 - val_loss: 0.6931 - val_accuracy: 0.5000\n"
     ]
    }
   ],
   "source": [
    "history=model.fit(train_generator,\n",
    "         epochs=10,\n",
    "         validation_data=validation_generator)"
   ]
  },
  {
   "cell_type": "code",
   "execution_count": 19,
   "id": "7e06dec4",
   "metadata": {},
   "outputs": [
    {
     "data": {
      "image/png": "[encoded data removed]",
      "text/plain": [
       "<Figure size 576x576 with 2 Axes>"
      ]
     },
     "metadata": {
      "needs_background": "light"
     },
     "output_type": "display_data"
    }
   ],
   "source": [
    "epochs=10\n",
    "acc=history.history['accuracy']\n",
    "val_acc=history.history['val_accuracy']\n",
    "\n",
    "loss=history.history['loss']\n",
    "val_loss=history.history['val_loss']\n",
    "\n",
    "epochs_range=range(epochs)\n",
    "\n",
    "plt.figure(figsize=(8,8))\n",
    "plt.subplot(1,2,1)\n",
    "plt.plot(epochs_range,acc,label=\"Training Accuracy\")\n",
    "plt.plot(epochs_range,val_acc,label=\"Validation Accuracy\")\n",
    "plt.legend(loc=\"lower right\")\n",
    "plt.title('Training and Validation Accuracy')\n",
    "\n",
    "plt.subplot(1,2,2)\n",
    "plt.plot(epochs_range,loss,label=\"Training Loss\")\n",
    "plt.plot(epochs_range,val_loss,label=\"Validtaion Loss\")\n",
    "plt.legend(loc=\"upper right\")\n",
    "plt.title('Training and Validation Loss')\n",
    "plt.show()"
   ]
  },
  {
   "cell_type": "code",
   "execution_count": null,
   "id": "2b9468fb",
   "metadata": {},
   "outputs": [],
   "source": []
  }
 ],
 "metadata": {
  "kernelspec": {
   "display_name": "Python 3 (ipykernel)",
   "language": "python",
   "name": "python3"
  },
  "language_info": {
   "codemirror_mode": {
    "name": "ipython",
    "version": 3
   },
   "file_extension": ".py",
   "mimetype": "text/x-python",
   "name": "python",
   "nbconvert_exporter": "python",
   "pygments_lexer": "ipython3",
   "version": "3.9.7"
  }
 },
 "nbformat": 4,
 "nbformat_minor": 5
}
