{
 "cells": [
  {
   "cell_type": "code",
   "execution_count": 5,
   "id": "f4e4b7fa",
   "metadata": {},
   "outputs": [],
   "source": [
    "import pandas as pd\n",
    "import numpy as np\n",
    "weight1=1\n",
    "weight=1\n",
    "bias=-1"
   ]
  },
  {
   "cell_type": "code",
   "execution_count": 6,
   "id": "82eebd5b",
   "metadata": {},
   "outputs": [],
   "source": [
    "test_inputs=[(0,0),(0,1),(1,0),(1,1)]\n",
    "correct_outputs=[False,False,False,True]\n",
    "outputs=[]"
   ]
  },
  {
   "cell_type": "code",
   "execution_count": 7,
   "id": "6d73c77c",
   "metadata": {},
   "outputs": [
    {
     "ename": "NameError",
     "evalue": "name 'weight2' is not defined",
     "output_type": "error",
     "traceback": [
      "\u001b[1;31m---------------------------------------------------------------------------\u001b[0m",
      "\u001b[1;31mNameError\u001b[0m                                 Traceback (most recent call last)",
      "Input \u001b[1;32mIn [7]\u001b[0m, in \u001b[0;36m<cell line: 1>\u001b[1;34m()\u001b[0m\n\u001b[0;32m      1\u001b[0m \u001b[38;5;28;01mfor\u001b[39;00m test_inputs,correct_output \u001b[38;5;129;01min\u001b[39;00m  \u001b[38;5;28mzip\u001b[39m(test_inputs,correct_outputs):\n\u001b[1;32m----> 2\u001b[0m     linear_combination\u001b[38;5;241m=\u001b[39mweight1\u001b[38;5;241m*\u001b[39mtest_inputs[\u001b[38;5;241m0\u001b[39m]\u001b[38;5;241m+\u001b[39m\u001b[43mweight2\u001b[49m\u001b[38;5;241m*\u001b[39mtest_inputs[\u001b[38;5;241m1\u001b[39m]\u001b[38;5;241m+\u001b[39mbias\n\u001b[0;32m      3\u001b[0m     output\u001b[38;5;241m=\u001b[39m\u001b[38;5;28mint\u001b[39m(linear_combination\u001b[38;5;241m>\u001b[39m\u001b[38;5;241m0\u001b[39m)\n\u001b[0;32m      4\u001b[0m     is_correct_string\u001b[38;5;241m=\u001b[39m\u001b[38;5;124m\"\u001b[39m\u001b[38;5;124mYes\u001b[39m\u001b[38;5;124m\"\u001b[39m \u001b[38;5;28;01mif\u001b[39;00m output\u001b[38;5;241m==\u001b[39mcorrect_output \u001b[38;5;28;01melse\u001b[39;00m \u001b[38;5;124m\"\u001b[39m\u001b[38;5;124mNo\u001b[39m\u001b[38;5;124m\"\u001b[39m\n",
      "\u001b[1;31mNameError\u001b[0m: name 'weight2' is not defined"
     ]
    }
   ],
   "source": [
    "for test_inputs,correct_output in  zip(test_inputs,correct_outputs):\n",
    "    linear_combination=weight1*test_inputs[0]+weight2*test_inputs[1]+bias\n",
    "    output=int(linear_combination>0)\n",
    "    is_correct_string=\"Yes\" if output==correct_output else \"No\"\n",
    "    outputs.append([test_inputs[0],test_inputs[1],linear_combination,outputs,is_correct_string])\n",
    "#print output\n",
    "num_wrong=len([output[4] for output in outputs if output[4]=='No'])\n",
    "output_frame=pd.DataFrame(outputs,columns=['input 1','input 2','Linear combination','Activation output','Is Correct'])\n",
    "if not num_wrong:\n",
    "    print('Nice You got it all correct.\\n')\n",
    "else:\n",
    "    print('You got {} wrong. keep trying!\\n'.format(num_wrong))\n",
    "print(output_frame.to_string(index=False))\n",
    "    "
   ]
  },
  {
   "cell_type": "code",
   "execution_count": 8,
   "id": "a6235d9a",
   "metadata": {},
   "outputs": [],
   "source": [
    "import numpy as np\n",
    "import matplotlib.pyplot as plt"
   ]
  },
  {
   "cell_type": "code",
   "execution_count": 9,
   "id": "9df43982",
   "metadata": {},
   "outputs": [],
   "source": [
    "# set random  seed\n",
    "np.random.seed(42)"
   ]
  },
  {
   "cell_type": "code",
   "execution_count": 10,
   "id": "b6149866",
   "metadata": {},
   "outputs": [
    {
     "name": "stdout",
     "output_type": "stream",
     "text": [
      "input:\n",
      " [[1 0 0 0]\n",
      " [1 0 1 1]\n",
      " [0 1 0 1]]\n",
      "\n",
      "shape of input: (3, 4)\n"
     ]
    }
   ],
   "source": [
    "x=np.array([[1,0,0,0],[1,0,1,1],[0,1,0,1]])\n",
    "print(\"input:\\n\",x)\n",
    "print(\"\\nshape of input:\",x.shape)"
   ]
  },
  {
   "cell_type": "code",
   "execution_count": 11,
   "id": "d2f6093b",
   "metadata": {},
   "outputs": [
    {
     "name": "stdout",
     "output_type": "stream",
     "text": [
      "input in matrix form :\n",
      " [[1 1 0]\n",
      " [0 0 1]\n",
      " [0 1 0]\n",
      " [0 1 1]]\n",
      "\n",
      "shape of input matrix: (4, 3)\n"
     ]
    }
   ],
   "source": [
    "#converting the input in matrix form\n",
    "x=x.T\n",
    "print(\"input in matrix form :\\n\",x)\n",
    "\n",
    "print(\"\\nshape of input matrix:\" ,x.shape)"
   ]
  },
  {
   "cell_type": "code",
   "execution_count": 12,
   "id": "04719786",
   "metadata": {},
   "outputs": [
    {
     "name": "stdout",
     "output_type": "stream",
     "text": [
      "Actual output:\n",
      " [[1]\n",
      " [1]\n",
      " [0]]\n",
      "\n",
      "shape of output : (1, 3)\n"
     ]
    }
   ],
   "source": [
    "y=np.array([[1],[1],[0]]) # cretaing output array\n",
    "print(\"Actual output:\\n\",y)\n",
    "\n",
    "y=y.T\n",
    "print(\"\\nshape of output :\",y.shape)\n"
   ]
  },
  {
   "cell_type": "code",
   "execution_count": 13,
   "id": "1dc2e69c",
   "metadata": {},
   "outputs": [],
   "source": [
    "inputLayer_neurons=x.shape[0]\n",
    "hiddenLayer_neurons=3\n",
    "outputLayer_neurons=1"
   ]
  },
  {
   "cell_type": "code",
   "execution_count": 14,
   "id": "9b0a9e37",
   "metadata": {},
   "outputs": [],
   "source": [
    "# initializing weight\n",
    "#shape os weights_input_hidden should number of neuons at input layer* number of neurons at hidden layer\n",
    "weights_input_hidden=np.random.uniform(size=(inputLayer_neurons,hiddenLayer_neurons,outputLayer_neurons))\n",
    "\n",
    "# shape of weights-hidden_output should number of neurons at hidden layer*number of neurons at output layer\n",
    "weights_hidden_output=np.random.uniform(size=(hiddenLayer_neurons,outputLayer_neurons))"
   ]
  },
  {
   "cell_type": "code",
   "execution_count": 15,
   "id": "b047105a",
   "metadata": {},
   "outputs": [
    {
     "data": {
      "text/plain": [
       "((4, 3, 1), (3, 1))"
      ]
     },
     "execution_count": 15,
     "metadata": {},
     "output_type": "execute_result"
    }
   ],
   "source": [
    "weights_input_hidden.shape,weights_hidden_output.shape # shape of weight matrix"
   ]
  },
  {
   "cell_type": "code",
   "execution_count": 16,
   "id": "ed59021f",
   "metadata": {},
   "outputs": [
    {
     "data": {
      "text/plain": [
       "array([[[0.37454012],\n",
       "        [0.95071431],\n",
       "        [0.73199394]],\n",
       "\n",
       "       [[0.59865848],\n",
       "        [0.15601864],\n",
       "        [0.15599452]],\n",
       "\n",
       "       [[0.05808361],\n",
       "        [0.86617615],\n",
       "        [0.60111501]],\n",
       "\n",
       "       [[0.70807258],\n",
       "        [0.02058449],\n",
       "        [0.96990985]]])"
      ]
     },
     "execution_count": 16,
     "metadata": {},
     "output_type": "execute_result"
    }
   ],
   "source": [
    "weights_input_hidden #W...K*M...k inputs..M..neurons"
   ]
  },
  {
   "cell_type": "code",
   "execution_count": 18,
   "id": "3da567b5",
   "metadata": {},
   "outputs": [
    {
     "data": {
      "text/plain": [
       "3"
      ]
     },
     "execution_count": 18,
     "metadata": {},
     "output_type": "execute_result"
    }
   ],
   "source": [
    "weights_hidden_output.size  #"
   ]
  },
  {
   "cell_type": "code",
   "execution_count": 81,
   "id": "392faaae",
   "metadata": {},
   "outputs": [],
   "source": [
    "def sigmoid(x):\n",
    "    return 1/(1+np.exp(-x))"
   ]
  },
  {
   "cell_type": "code",
   "execution_count": 85,
   "id": "1a2d189b",
   "metadata": {},
   "outputs": [],
   "source": [
    "hiddenLayer_linearTransform=np.dot(weights_input_hidden.T,x)\n",
    "hiddenLayer_activations=sigmoid(hiddenLayer_linearTransform)"
   ]
  },
  {
   "cell_type": "code",
   "execution_count": 86,
   "id": "fdf2a6f4",
   "metadata": {},
   "outputs": [],
   "source": [
    "#Calculating the output \n",
    "outputLayer_linearTransform=np.dot(weights_hidden_output.T,hiddenLayer_activations)\n",
    "output=sigmoid(outputLayer_linearTransform)"
   ]
  },
  {
   "cell_type": "code",
   "execution_count": 87,
   "id": "84d0c105",
   "metadata": {},
   "outputs": [
    {
     "data": {
      "text/plain": [
       "array([[[0.68334694, 0.72697078, 0.71257368]]])"
      ]
     },
     "execution_count": 87,
     "metadata": {},
     "output_type": "execute_result"
    }
   ],
   "source": [
    "#output\n",
    "output"
   ]
  },
  {
   "cell_type": "code",
   "execution_count": 88,
   "id": "8906f6f1",
   "metadata": {},
   "outputs": [
    {
     "data": {
      "text/plain": [
       "array([[[0.05013458, 0.03727248, 0.25388062]]])"
      ]
     },
     "execution_count": 88,
     "metadata": {},
     "output_type": "execute_result"
    }
   ],
   "source": [
    "#calculating the error\n",
    "error=np.square(y-output)/2\n",
    "error"
   ]
  },
  {
   "cell_type": "code",
   "execution_count": null,
   "id": "48e3d3db",
   "metadata": {},
   "outputs": [],
   "source": []
  }
 ],
 "metadata": {
  "kernelspec": {
   "display_name": "Python 3 (ipykernel)",
   "language": "python",
   "name": "python3"
  },
  "language_info": {
   "codemirror_mode": {
    "name": "ipython",
    "version": 3
   },
   "file_extension": ".py",
   "mimetype": "text/x-python",
   "name": "python",
   "nbconvert_exporter": "python",
   "pygments_lexer": "ipython3",
   "version": "3.9.7"
  }
 },
 "nbformat": 4,
 "nbformat_minor": 5
}
