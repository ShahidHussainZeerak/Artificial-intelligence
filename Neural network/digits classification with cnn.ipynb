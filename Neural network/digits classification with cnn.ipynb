{
 "cells": [
  {
   "cell_type": "markdown",
   "id": "3c532ad7",
   "metadata": {},
   "source": [
    "# Monday Class"
   ]
  },
  {
   "cell_type": "code",
   "execution_count": 1,
   "id": "e3099a2c",
   "metadata": {},
   "outputs": [],
   "source": [
    "from keras import layers\n",
    "from keras import models\n",
    "\n",
    "model=models.Sequential()\n",
    "model.add(layers.Conv2D(32,(3,3),activation='relu',input_shape=(28,28,1)))\n",
    "model.add(layers.MaxPooling2D((2,2)))\n",
    "model.add(layers.Conv2D(64,(3,3),activation='relu'))\n",
    "model.add(layers.MaxPooling2D((2,2)))\n",
    "model.add(layers.Conv2D(64,(3,3),activation='relu'))"
   ]
  },
  {
   "cell_type": "code",
   "execution_count": 2,
   "id": "2e6c0162",
   "metadata": {},
   "outputs": [],
   "source": [
    "model.add(layers.Flatten())\n",
    "model.add(layers.Dense(64,activation='relu'))\n",
    "model.add(layers.Dense(10,activation='softmax'))"
   ]
  },
  {
   "cell_type": "code",
   "execution_count": 3,
   "id": "80865c10",
   "metadata": {},
   "outputs": [
    {
     "name": "stdout",
     "output_type": "stream",
     "text": [
      "Epoch 1/5\n",
      "938/938 [==============================] - 60s 62ms/step - loss: 0.1694 - accuracy: 0.9469\n",
      "Epoch 2/5\n",
      "938/938 [==============================] - 58s 62ms/step - loss: 0.0464 - accuracy: 0.9855\n",
      "Epoch 3/5\n",
      "938/938 [==============================] - 65s 69ms/step - loss: 0.0323 - accuracy: 0.9903\n",
      "Epoch 4/5\n",
      "938/938 [==============================] - 64s 68ms/step - loss: 0.0244 - accuracy: 0.9926\n",
      "Epoch 5/5\n",
      "938/938 [==============================] - 55s 58ms/step - loss: 0.0188 - accuracy: 0.9942\n"
     ]
    },
    {
     "data": {
      "text/plain": [
       "<keras.callbacks.History at 0x2221e919eb0>"
      ]
     },
     "execution_count": 3,
     "metadata": {},
     "output_type": "execute_result"
    }
   ],
   "source": [
    "from keras.datasets import mnist\n",
    "from keras.utils import to_categorical\n",
    "(train_images,train_labels),(test_images,test_labels)=mnist.load_data()\n",
    "\n",
    "train_images=train_images.reshape((60000,28,28,1))\n",
    "train_images=train_images.astype('float32')/255\n",
    "\n",
    "test_images=test_images.reshape((10000,28,28,1))\n",
    "test_images=test_images.astype('float32')/255\n",
    "\n",
    "train_labels=to_categorical(train_labels)\n",
    "test_labels=to_categorical(test_labels)\n",
    "model.compile(optimizer='rmsprop',loss='categorical_crossentropy',metrics=['accuracy'])\n",
    "\n",
    "model.fit(train_images,train_labels,epochs=5,batch_size=64)"
   ]
  },
  {
   "cell_type": "code",
   "execution_count": 4,
   "id": "66beb106",
   "metadata": {},
   "outputs": [
    {
     "name": "stdout",
     "output_type": "stream",
     "text": [
      "313/313 [==============================] - 4s 11ms/step - loss: 0.0363 - accuracy: 0.9889\n"
     ]
    }
   ],
   "source": [
    "test_loss,test_acc=model.evaluate(test_images,test_labels)"
   ]
  },
  {
   "cell_type": "code",
   "execution_count": 5,
   "id": "a511ced7",
   "metadata": {},
   "outputs": [
    {
     "data": {
      "text/plain": [
       "0.03629528358578682"
      ]
     },
     "execution_count": 5,
     "metadata": {},
     "output_type": "execute_result"
    }
   ],
   "source": [
    "test_loss"
   ]
  },
  {
   "cell_type": "code",
   "execution_count": 6,
   "id": "782a58f0",
   "metadata": {},
   "outputs": [
    {
     "data": {
      "text/plain": [
       "0.9889000058174133"
      ]
     },
     "execution_count": 6,
     "metadata": {},
     "output_type": "execute_result"
    }
   ],
   "source": [
    "test_acc"
   ]
  },
  {
   "cell_type": "code",
   "execution_count": 8,
   "id": "78f44ddd",
   "metadata": {},
   "outputs": [],
   "source": [
    "import cv2\n",
    "import matplotlib.pyplot as plt\n",
    "import numpy as np\n",
    "%matplotlib inline"
   ]
  },
  {
   "cell_type": "code",
   "execution_count": 9,
   "id": "13f91f0f",
   "metadata": {},
   "outputs": [],
   "source": [
    "h=cv2.imread(\"./images.png\")\n",
    "gray=cv2.cvtColor(h,cv2.COLOR_BGR2GRAY)"
   ]
  },
  {
   "cell_type": "code",
   "execution_count": 16,
   "id": "e9f353f9",
   "metadata": {},
   "outputs": [],
   "source": [
    "gray.shape\n",
    "gray=cv2.resize(gray,(28,28))"
   ]
  },
  {
   "cell_type": "code",
   "execution_count": 17,
   "id": "ff0ef9c4",
   "metadata": {},
   "outputs": [],
   "source": [
    "h_batch=np.expand_dims(gray,axis=0)"
   ]
  },
  {
   "cell_type": "code",
   "execution_count": 18,
   "id": "f927efd7",
   "metadata": {},
   "outputs": [
    {
     "data": {
      "text/plain": [
       "<matplotlib.image.AxesImage at 0x2222127c880>"
      ]
     },
     "execution_count": 18,
     "metadata": {},
     "output_type": "execute_result"
    },
    {
     "data": {
      "image/png": "[encoded data removed]",
      "text/plain": [
       "<Figure size 432x288 with 1 Axes>"
      ]
     },
     "metadata": {
      "needs_background": "light"
     },
     "output_type": "display_data"
    }
   ],
   "source": [
    "plt.imshow(gray)"
   ]
  },
  {
   "cell_type": "code",
   "execution_count": 19,
   "id": "6dedd6d8",
   "metadata": {},
   "outputs": [],
   "source": [
    "labels=[\"0\",\"1\",\"2\",\"3\",\"4\",\"5\",\"6\",\"7\",\"8\",\"9\"]\n",
    "\n",
    "def visualize_h(test_model,h):\n",
    "    h_batch=np.expand_dims(h,axis=0)\n",
    "    print(h_batch.shape)\n",
    "    conv_h=model.predict(h_batch)\n",
    "    #print(conv_h)\n",
    "    predict=np.argmax(conv_h)\n",
    "    #print(predict)\n",
    "    print(f\"predicted label: {labels[predict]}\")\n",
    "    plt.imshow(h)"
   ]
  },
  {
   "cell_type": "code",
   "execution_count": 20,
   "id": "2c117f59",
   "metadata": {},
   "outputs": [
    {
     "name": "stdout",
     "output_type": "stream",
     "text": [
      "(1, 28, 28)\n",
      "1/1 [==============================] - 0s 182ms/step\n",
      "predicted label: 7\n"
     ]
    },
    {
     "data": {
      "image/png": "[encoded data removed]",
      "text/plain": [
       "<Figure size 432x288 with 1 Axes>"
      ]
     },
     "metadata": {
      "needs_background": "light"
     },
     "output_type": "display_data"
    }
   ],
   "source": [
    "visualize_h(model,gray)"
   ]
  },
  {
   "cell_type": "code",
   "execution_count": null,
   "id": "d88765fa",
   "metadata": {},
   "outputs": [],
   "source": []
  }
 ],
 "metadata": {
  "kernelspec": {
   "display_name": "Python 3 (ipykernel)",
   "language": "python",
   "name": "python3"
  },
  "language_info": {
   "codemirror_mode": {
    "name": "ipython",
    "version": 3
   },
   "file_extension": ".py",
   "mimetype": "text/x-python",
   "name": "python",
   "nbconvert_exporter": "python",
   "pygments_lexer": "ipython3",
   "version": "3.9.7"
  }
 },
 "nbformat": 4,
 "nbformat_minor": 5
}
