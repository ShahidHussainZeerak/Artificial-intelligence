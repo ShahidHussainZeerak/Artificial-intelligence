{
 "cells": [
  {
   "cell_type": "code",
   "execution_count": 5,
   "id": "eed88fd9",
   "metadata": {},
   "outputs": [],
   "source": [
    "import gym\n"
   ]
  },
  {
   "cell_type": "code",
   "execution_count": null,
   "id": "ef622b37",
   "metadata": {},
   "outputs": [],
   "source": [
    "env = gym.make(\"CliffWalking-v0\")"
   ]
  },
  {
   "cell_type": "code",
   "execution_count": null,
   "id": "3c1e4b4d",
   "metadata": {},
   "outputs": [],
   "source": [
    "for episode in range(100):\n",
    "    observation=env.reset()\n",
    "    \n",
    "    # Render the environment on each step\n",
    "    for i in range(100):\n",
    "        env.render()\n",
    "        \n",
    "        action=env.action_space.sample()\n",
    "        observation ,reward,done,info=env.step(action)\n",
    "    if done:\n",
    "        print(\"{} timesteps taken for the Episode\".format(i+1))\n",
    "        break"
   ]
  },
  {
   "cell_type": "code",
   "execution_count": null,
   "id": "7fcde31d",
   "metadata": {},
   "outputs": [],
   "source": []
  },
  {
   "cell_type": "code",
   "execution_count": null,
   "id": "5f132e46",
   "metadata": {},
   "outputs": [],
   "source": []
  }
 ],
 "metadata": {
  "kernelspec": {
   "display_name": "Python 3 (ipykernel)",
   "language": "python",
   "name": "python3"
  },
  "language_info": {
   "codemirror_mode": {
    "name": "ipython",
    "version": 3
   },
   "file_extension": ".py",
   "mimetype": "text/x-python",
   "name": "python",
   "nbconvert_exporter": "python",
   "pygments_lexer": "ipython3",
   "version": "3.9.7"
  }
 },
 "nbformat": 4,
 "nbformat_minor": 5
}
