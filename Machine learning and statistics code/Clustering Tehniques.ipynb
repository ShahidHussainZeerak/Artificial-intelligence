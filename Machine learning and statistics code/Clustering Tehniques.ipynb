{
 "cells": [
  {
   "cell_type": "code",
   "execution_count": null,
   "id": "f0b7f163",
   "metadata": {},
   "outputs": [],
   "source": []
  },
  {
   "cell_type": "markdown",
   "id": "2c3a0502",
   "metadata": {},
   "source": [
    "# Hierarical clustering"
   ]
  },
  {
   "cell_type": "code",
   "execution_count": 2,
   "id": "7c365db2",
   "metadata": {},
   "outputs": [],
   "source": [
    "from sklearn.datasets import load_iris\n",
    "from sklearn.cluster import AgglomerativeClustering\n",
    "import numpy as np\n",
    "import matplotlib.pyplot as plt\n",
    "#getting the data ready\n"
   ]
  },
  {
   "cell_type": "code",
   "execution_count": 3,
   "id": "eace8521",
   "metadata": {},
   "outputs": [],
   "source": [
    "#getting the data ready\n",
    "data=load_iris()\n",
    "df=data.data"
   ]
  },
  {
   "cell_type": "code",
   "execution_count": 5,
   "id": "33cbc2b3",
   "metadata": {},
   "outputs": [],
   "source": [
    "#selecting sertain features based on which clustering is done\n",
    "df=df[:,1:3]"
   ]
  },
  {
   "cell_type": "code",
   "execution_count": 6,
   "id": "185882ff",
   "metadata": {},
   "outputs": [],
   "source": [
    "#creating the model\n",
    "agg_clustering=AgglomerativeClustering(n_clusters=3,affinity='euclidean',distance_threshold=None)"
   ]
  },
  {
   "cell_type": "code",
   "execution_count": 7,
   "id": "c730852f",
   "metadata": {},
   "outputs": [],
   "source": [
    "#predicting the labels\n",
    "labels=agg_clustering.fit_predict(df)"
   ]
  },
  {
   "cell_type": "code",
   "execution_count": 10,
   "id": "1685faee",
   "metadata": {},
   "outputs": [
    {
     "data": {
      "image/png": "[encoded data removed]",
      "text/plain": [
       "<Figure size 576x360 with 1 Axes>"
      ]
     },
     "metadata": {
      "needs_background": "light"
     },
     "output_type": "display_data"
    }
   ],
   "source": [
    "plt.figure(figsize=(8,5))\n",
    "plt.scatter(df[labels==0,0],df[labels==0,1],c='red')\n",
    "plt.scatter(df[labels==1,0],df[labels==1,1],c='green')\n",
    "plt.scatter(df[labels==2,0],df[labels==2,1],c='blue')\n",
    "plt.show()"
   ]
  },
  {
   "cell_type": "markdown",
   "id": "87c3f9bd",
   "metadata": {},
   "source": [
    "# code for elbow"
   ]
  },
  {
   "cell_type": "code",
   "execution_count": 22,
   "id": "2ed804f4",
   "metadata": {},
   "outputs": [],
   "source": [
    "from sklearn.datasets import make_blobs\n",
    "from sklearn.cluster import KMeans \n",
    "from sklearn.metrics import silhouette_samples,silhouette_score\n"
   ]
  },
  {
   "cell_type": "code",
   "execution_count": 23,
   "id": "7a5639e6",
   "metadata": {},
   "outputs": [],
   "source": [
    "X,y=make_blobs(n_samples=500,n_features=2,centers=4,cluster_std=1,center_box=(-10.0,10.0),shuffle=True,random_state=1)"
   ]
  },
  {
   "cell_type": "code",
   "execution_count": 24,
   "id": "82acdb73",
   "metadata": {},
   "outputs": [],
   "source": [
    "range_n_clusters=[2,3,4,5,6]"
   ]
  },
  {
   "cell_type": "code",
   "execution_count": 25,
   "id": "28f5820b",
   "metadata": {},
   "outputs": [],
   "source": [
    "from sklearn.cluster import KMeans"
   ]
  },
  {
   "cell_type": "code",
   "execution_count": 26,
   "id": "8e882d35",
   "metadata": {},
   "outputs": [
    {
     "name": "stderr",
     "output_type": "stream",
     "text": [
      "C:\\Users\\hp\\anaconda3\\envs\\machinelearning\\lib\\site-packages\\sklearn\\cluster\\_kmeans.py:1036: UserWarning: KMeans is known to have a memory leak on Windows with MKL, when there are less chunks than available threads. You can avoid it by setting the environment variable OMP_NUM_THREADS=2.\n",
      "  warnings.warn(\n"
     ]
    },
    {
     "data": {
      "image/png": "[encoded data removed]",
      "text/plain": [
       "<Figure size 432x288 with 1 Axes>"
      ]
     },
     "metadata": {
      "needs_background": "light"
     },
     "output_type": "display_data"
    }
   ],
   "source": [
    "wcss=[]\n",
    "for i in range(1,11):\n",
    "    kmeans=KMeans(n_clusters=i,init=\"k-means++\",random_state=0)\n",
    "    kmeans.fit(X)\n",
    "    wcss.append(kmeans.inertia_)\n",
    "plt.plot(range(1,11),wcss)\n",
    "plt.title(\"The Elbow Method\")\n",
    "plt.xlabel(\"Number of Clusters\")\n",
    "plt.ylabel('WCSS')\n",
    "plt.show()\n",
    "    "
   ]
  },
  {
   "cell_type": "markdown",
   "id": "556e9620",
   "metadata": {},
   "source": [
    "# validation of clustering"
   ]
  },
  {
   "cell_type": "code",
   "execution_count": 27,
   "id": "47419a54",
   "metadata": {},
   "outputs": [],
   "source": [
    "from sklearn.datasets import make_blobs\n",
    "from sklearn.cluster import KMeans \n",
    "from sklearn.metrics import silhouette_samples,silhouette_score"
   ]
  },
  {
   "cell_type": "code",
   "execution_count": 28,
   "id": "eac2a04f",
   "metadata": {},
   "outputs": [],
   "source": [
    "X,y=make_blobs(n_samples=500,n_features=2,centers=4,cluster_std=1,center_box=(-10.0,10.0),shuffle=True,random_state=1)"
   ]
  },
  {
   "cell_type": "code",
   "execution_count": 34,
   "id": "aa636d4e",
   "metadata": {},
   "outputs": [],
   "source": [
    "range_n_clusters=[2,3,4,5,6]"
   ]
  },
  {
   "cell_type": "code",
   "execution_count": 35,
   "id": "ea5607bf",
   "metadata": {},
   "outputs": [],
   "source": [
    "from sklearn.cluster import KMeans"
   ]
  },
  {
   "cell_type": "code",
   "execution_count": 39,
   "id": "d3573a18",
   "metadata": {},
   "outputs": [
    {
     "name": "stdout",
     "output_type": "stream",
     "text": [
      "[2 2 3 1 0 1 0 0 0 0 2 2 0 1 0 2 0 2 1 0 3 3 0 1 0 0 1 1 3 0 2 1 0 2 0 2 3\n",
      " 3 2 3 0 3 1 0 0 2 3 0 1 1 1 3 3 0 2 3 3 3 3 0 1 1 3 0 1 0 2 0 3 3 2 3 0 2\n",
      " 0 0 2 0 0 3 1 1 3 1 1 3 3 1 3 3 1 2 3 0 1 2 2 0 2 1 1 2 1 3 1 0 0 1 1 3 0\n",
      " 2 1 3 1 3 1 0 1 0 3 2 2 3 0 3 1 2 2 0 1 3 3 3 3 2 1 0 1 1 0 2 0 1 1 1 0 0\n",
      " 2 2 3 3 1 2 1 3 3 3 3 3 3 3 3 3 1 2 2 2 0 1 2 3 0 2 1 3 3 3 3 2 0 3 1 2 2\n",
      " 3 0 2 2 0 1 1 2 2 0 1 0 2 2 1 2 3 1 0 0 2 0 3 2 0 3 0 3 2 0 0 0 1 3 1 0 2\n",
      " 3 0 3 3 3 1 3 1 2 3 2 3 1 1 3 2 1 2 0 3 2 2 2 2 0 3 2 3 0 1 1 0 0 1 3 0 3\n",
      " 1 0 1 3 3 1 0 2 2 3 3 3 0 1 1 0 1 3 2 1 2 1 2 2 1 2 1 1 0 3 3 3 0 0 3 2 1\n",
      " 2 2 2 0 3 0 2 3 2 2 3 2 2 3 1 2 0 0 1 1 3 2 1 1 0 2 1 1 0 3 1 3 0 2 2 1 3\n",
      " 2 0 1 1 0 0 0 2 0 1 1 3 1 1 1 1 2 2 0 1 3 0 2 1 3 1 0 1 3 0 3 1 0 0 2 1 2\n",
      " 2 2 2 2 2 3 2 1 2 1 1 3 1 0 3 3 2 1 3 1 0 2 3 3 2 3 3 1 1 2 3 0 1 0 0 2 2\n",
      " 0 2 3 3 2 3 2 3 1 2 1 3 0 1 3 0 1 2 0 1 1 3 0 3 0 2 1 2 0 1 2 2 2 3 1 0 2\n",
      " 0 0 3 3 2 0 0 0 0 0 0 2 0 3 2 0 1 0 1 0 3 3 1 1 1 3 0 3 2 3 1 0 2 1 2 1 2\n",
      " 0 1 1 2 3 0 2 3 3 3 2 0 1 3 0 2 2 2 0]\n"
     ]
    }
   ],
   "source": [
    "clusters=KMeans(n_clusters=4,random_state=10)\n",
    "clusters_labels=clusters.fit_predict(X)\n",
    "print(clusters_labels)"
   ]
  },
  {
   "cell_type": "markdown",
   "id": "1dd7de73",
   "metadata": {},
   "source": [
    "How do we validate clustering problem"
   ]
  },
  {
   "cell_type": "code",
   "execution_count": 42,
   "id": "5147f158",
   "metadata": {},
   "outputs": [
    {
     "name": "stdout",
     "output_type": "stream",
     "text": [
      "for n_clusters= 2 the average silhoutte_score is  0.7049787496083262\n",
      "for n_clusters= 3 the average silhoutte_score is  0.5882004012129721\n",
      "for n_clusters= 4 the average silhoutte_score is  0.6505186632729437\n",
      "for n_clusters= 5 the average silhoutte_score is  0.56376469026194\n",
      "for n_clusters= 6 the average silhoutte_score is  0.4504666294372765\n"
     ]
    }
   ],
   "source": [
    "range_n_clusters=[2,3,4,5,6]\n",
    "for n_clusters in range_n_clusters:\n",
    "    cluster=KMeans(n_clusters=n_clusters,random_state=10)\n",
    "    cluster_labels=cluster.fit_predict(X)\n",
    "    silhouette_avg=silhouette_score(X,cluster_labels)\n",
    "    print(\"for n_clusters=\",n_clusters,\"the average silhoutte_score is \",silhouette_avg)"
   ]
  },
  {
   "cell_type": "code",
   "execution_count": null,
   "id": "4ca15ce5",
   "metadata": {},
   "outputs": [],
   "source": []
  }
 ],
 "metadata": {
  "kernelspec": {
   "display_name": "Python 3 (ipykernel)",
   "language": "python",
   "name": "python3"
  },
  "language_info": {
   "codemirror_mode": {
    "name": "ipython",
    "version": 3
   },
   "file_extension": ".py",
   "mimetype": "text/x-python",
   "name": "python",
   "nbconvert_exporter": "python",
   "pygments_lexer": "ipython3",
   "version": "3.9.7"
  }
 },
 "nbformat": 4,
 "nbformat_minor": 5
}
