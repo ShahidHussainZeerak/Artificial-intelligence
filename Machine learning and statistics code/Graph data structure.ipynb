{
 "cells": [
  {
   "cell_type": "markdown",
   "id": "f6616b3a",
   "metadata": {},
   "source": [
    "# wednesday class"
   ]
  },
  {
   "cell_type": "code",
   "execution_count": 1,
   "id": "59f90a65",
   "metadata": {},
   "outputs": [
    {
     "name": "stdout",
     "output_type": "stream",
     "text": [
      "[0, 3, 4, 5, 1, 2]\n"
     ]
    }
   ],
   "source": [
    "def dfs_iterative(graph,start):\n",
    "    stack=[start]\n",
    "    visited=[]\n",
    "    while stack:\n",
    "        vertex=stack.pop()\n",
    "        if vertex in visited:\n",
    "            continue\n",
    "        visited.append(vertex)\n",
    "        for neighbor in graph[vertex]:\n",
    "            stack.append(neighbor)\n",
    "    return visited\n",
    "graph={0:[1,2,3],1:[0,2,4],2:[0,1],3:[5,4],4:[1,3,5],5:[3,4]}\n",
    "print(dfs_iterative(graph,0))\n"
   ]
  },
  {
   "cell_type": "code",
   "execution_count": 2,
   "id": "ee0b07f3",
   "metadata": {},
   "outputs": [
    {
     "name": "stdout",
     "output_type": "stream",
     "text": [
      "[0, 3, 4, 5, 1, 2]\n"
     ]
    }
   ],
   "source": [
    "def dfs_recursive(graph,vertex,visited=[]):\n",
    "    visited+=[vertex]\n",
    "    print(vistied)\n",
    "    for neighbor in graph [vetrex]:\n",
    "        if neighbor not in visited:\n",
    "            visited=dfs_recursive(graph,neighbor,visited)\n",
    "    return visited\n",
    "graph={0:[1,2,3],1:[0,2,4],2:[0,1],3:[5,4],4:[1,3,5],5:[3,4]}\n",
    "print(dfs_iterative(graph,0))"
   ]
  },
  {
   "cell_type": "markdown",
   "id": "5f012824",
   "metadata": {},
   "source": [
    "# thursday class"
   ]
  },
  {
   "cell_type": "code",
   "execution_count": 3,
   "id": "2faa9f46",
   "metadata": {},
   "outputs": [
    {
     "name": "stdout",
     "output_type": "stream",
     "text": [
      "following is the breadth first search algorithm\n",
      "5 3 7 2 4 8 8 ['5', '3', '7', '2', '4', '8']\n"
     ]
    }
   ],
   "source": [
    "visited=[]\n",
    "queue=[]\n",
    "def bfs_iterative(visited,graph,node):\n",
    "    queue.append(node)\n",
    "    while queue:\n",
    "        vertex=queue.pop(0)\n",
    "        print(vertex,end=\" \")\n",
    "        if  vertex not in visited:\n",
    "            visited.append(vertex)\n",
    "        for neighbor in graph[vertex]:\n",
    "            queue.append(neighbor)\n",
    "    return visited\n",
    "adjacency_matrix={'5':[\"3\",'7'],'3':['2','4'],'7':[\"8\"],'2':[],'4':['8'],'8':[]}\n",
    "print('following is the breadth first search algorithm')\n",
    "visited=bfs_iterative(visited,adjacency_matrix,'5')\n",
    "print(visited)"
   ]
  },
  {
   "cell_type": "markdown",
   "id": "056c932f",
   "metadata": {},
   "source": [
    "# Example 2"
   ]
  },
  {
   "cell_type": "code",
   "execution_count": 4,
   "id": "00a20a44",
   "metadata": {},
   "outputs": [],
   "source": [
    "cards=52\n",
    "aces=4 # outcomes"
   ]
  },
  {
   "cell_type": "code",
   "execution_count": 5,
   "id": "956d238d",
   "metadata": {},
   "outputs": [
    {
     "name": "stdout",
     "output_type": "stream",
     "text": [
      "0.08\n"
     ]
    }
   ],
   "source": [
    "#divide possible outcomes by the sample set\n",
    "ace_possibility=aces/cards\n",
    "print(round(ace_possibility,2))"
   ]
  },
  {
   "cell_type": "code",
   "execution_count": 6,
   "id": "aec60d47",
   "metadata": {},
   "outputs": [],
   "source": [
    "# determine the probability of drawing an ace an d show in the percentage"
   ]
  },
  {
   "cell_type": "code",
   "execution_count": 7,
   "id": "0d59e787",
   "metadata": {},
   "outputs": [
    {
     "name": "stdout",
     "output_type": "stream",
     "text": [
      "8.0%\n"
     ]
    }
   ],
   "source": [
    "cards=52\n",
    "aces=4 # outcomes\n",
    "ace_probability=aces/cards\n",
    "ace_probability_percent=ace_probability*100\n",
    "\n",
    "print(str(round(ace_probability_percent,0))+\"%\")"
   ]
  },
  {
   "cell_type": "code",
   "execution_count": 8,
   "id": "780af31c",
   "metadata": {},
   "outputs": [],
   "source": [
    "# Example: create a function that makes the sample sapce and event outcome and returns the event probability"
   ]
  },
  {
   "cell_type": "code",
   "execution_count": 9,
   "id": "1c2022fa",
   "metadata": {},
   "outputs": [
    {
     "name": "stdout",
     "output_type": "stream",
     "text": [
      "1350%\n",
      "675%\n"
     ]
    }
   ],
   "source": [
    "def probability_function(sample_space,outcomes):\n",
    "    prob=(outcomes/sample_space)*100\n",
    "    print(str(round(prob))+'%')\n",
    "probability_function(4,54)\n",
    "probability_function(8,54)"
   ]
  },
  {
   "cell_type": "code",
   "execution_count": 10,
   "id": "815c3362",
   "metadata": {},
   "outputs": [
    {
     "ename": "NameError",
     "evalue": "name 'probability' is not defined",
     "output_type": "error",
     "traceback": [
      "\u001b[1;31m---------------------------------------------------------------------------\u001b[0m",
      "\u001b[1;31mNameError\u001b[0m                                 Traceback (most recent call last)",
      "Input \u001b[1;32mIn [10]\u001b[0m, in \u001b[0;36m<cell line: 8>\u001b[1;34m()\u001b[0m\n\u001b[0;32m      6\u001b[0m \u001b[38;5;66;03m# determine the probability of drawing a heart\u001b[39;00m\n\u001b[0;32m      7\u001b[0m hearts\u001b[38;5;241m=\u001b[39m\u001b[38;5;241m13\u001b[39m\n\u001b[1;32m----> 8\u001b[0m heart_probability\u001b[38;5;241m=\u001b[39m\u001b[43mprobability_function\u001b[49m\u001b[43m(\u001b[49m\u001b[43mhearts\u001b[49m\u001b[43m,\u001b[49m\u001b[43mcards\u001b[49m\u001b[43m)\u001b[49m\n\u001b[0;32m      9\u001b[0m \u001b[38;5;28mprint\u001b[39m(\u001b[38;5;28mstr\u001b[39m(heart_probability)\u001b[38;5;241m+\u001b[39m\u001b[38;5;124m'\u001b[39m\u001b[38;5;124m%\u001b[39m\u001b[38;5;124m'\u001b[39m)\n",
      "Input \u001b[1;32mIn [10]\u001b[0m, in \u001b[0;36mprobability_function\u001b[1;34m(sample_space, outcomes)\u001b[0m\n\u001b[0;32m      1\u001b[0m \u001b[38;5;28;01mdef\u001b[39;00m \u001b[38;5;21mprobability_function\u001b[39m(sample_space,outcomes):\n\u001b[0;32m      2\u001b[0m     prob\u001b[38;5;241m=\u001b[39m(outcomes\u001b[38;5;241m/\u001b[39msample_space)\u001b[38;5;241m*\u001b[39m\u001b[38;5;241m100\u001b[39m\n\u001b[1;32m----> 3\u001b[0m     \u001b[38;5;28;01mreturn\u001b[39;00m \u001b[38;5;28mround\u001b[39m(\u001b[43mprobability\u001b[49m,\u001b[38;5;241m1\u001b[39m)\n",
      "\u001b[1;31mNameError\u001b[0m: name 'probability' is not defined"
     ]
    }
   ],
   "source": [
    "def probability_function(sample_space,outcomes):\n",
    "    prob=(outcomes/sample_space)*100\n",
    "    return round(probability,1)\n",
    "#sample space.\n",
    "cards=52\n",
    "# determine the probability of drawing a heart\n",
    "hearts=13\n",
    "heart_probability=probability_function(hearts,cards)\n",
    "print(str(heart_probability)+'%')"
   ]
  },
  {
   "cell_type": "markdown",
   "id": "6dace2a4",
   "metadata": {},
   "source": [
    "# permutation"
   ]
  },
  {
   "cell_type": "code",
   "execution_count": 1,
   "id": "840e26fc",
   "metadata": {},
   "outputs": [],
   "source": [
    "from itertools import permutations"
   ]
  },
  {
   "cell_type": "code",
   "execution_count": 2,
   "id": "410b41f0",
   "metadata": {},
   "outputs": [
    {
     "name": "stdout",
     "output_type": "stream",
     "text": [
      "(1, 2, 3)\n",
      "(1, 3, 2)\n",
      "(2, 1, 3)\n",
      "(2, 3, 1)\n",
      "(3, 1, 2)\n",
      "(3, 2, 1)\n"
     ]
    }
   ],
   "source": [
    "perm=permutations([1,2,3])\n",
    "for i in perm: #to print all the permutations\n",
    "    print(i)"
   ]
  },
  {
   "cell_type": "code",
   "execution_count": 3,
   "id": "ab5d2e5d",
   "metadata": {},
   "outputs": [
    {
     "name": "stdout",
     "output_type": "stream",
     "text": [
      "(1, 2)\n",
      "(1, 3)\n",
      "(2, 1)\n",
      "(2, 3)\n",
      "(3, 1)\n",
      "(3, 2)\n"
     ]
    }
   ],
   "source": [
    "# permutation of a given length\n",
    "\n",
    "perm=permutations([1,2,3],2) # to make pair of only two two numbers only\n",
    "for i in perm: #to print all the permutations\n",
    "    print(i)"
   ]
  },
  {
   "cell_type": "code",
   "execution_count": 4,
   "id": "3aa7bc96",
   "metadata": {},
   "outputs": [
    {
     "name": "stdout",
     "output_type": "stream",
     "text": [
      "(1, 1)\n",
      "(1, 2)\n",
      "(1, 3)\n",
      "(2, 2)\n",
      "(2, 3)\n",
      "(3, 3)\n"
     ]
    }
   ],
   "source": [
    "from itertools import combinations_with_replacement\n",
    "comb=combinations_with_replacement([1,2,3],2)\n",
    "for i in list(comb):\n",
    "    print(i)"
   ]
  },
  {
   "cell_type": "markdown",
   "id": "f015bd34",
   "metadata": {},
   "source": [
    "# Association Rules"
   ]
  },
  {
   "cell_type": "code",
   "execution_count": 5,
   "id": "f395edd8",
   "metadata": {},
   "outputs": [
    {
     "name": "stdout",
     "output_type": "stream",
     "text": [
      "Requirement already satisfied: apyori in c:\\users\\hp\\anaconda3\\envs\\machinelearning\\lib\\site-packages (1.1.2)\n",
      "Note: you may need to restart the kernel to use updated packages.\n"
     ]
    }
   ],
   "source": [
    "pip install apyori\n"
   ]
  },
  {
   "cell_type": "code",
   "execution_count": 3,
   "id": "026cbf16",
   "metadata": {},
   "outputs": [],
   "source": [
    "import matplotlib.pyplot as plt\n",
    "import numpy as np\n",
    "import pandas as pd\n",
    "from apyori import apriori"
   ]
  },
  {
   "cell_type": "code",
   "execution_count": 4,
   "id": "ba5547d9",
   "metadata": {},
   "outputs": [],
   "source": [
    "data=pd.read_csv(\"order_data.csv\")"
   ]
  },
  {
   "cell_type": "code",
   "execution_count": 5,
   "id": "01259eea",
   "metadata": {},
   "outputs": [
    {
     "data": {
      "text/html": [
       "<div>\n",
       "<style scoped>\n",
       "    .dataframe tbody tr th:only-of-type {\n",
       "        vertical-align: middle;\n",
       "    }\n",
       "\n",
       "    .dataframe tbody tr th {\n",
       "        vertical-align: top;\n",
       "    }\n",
       "\n",
       "    .dataframe thead th {\n",
       "        text-align: right;\n",
       "    }\n",
       "</style>\n",
       "<table border=\"1\" class=\"dataframe\">\n",
       "  <thead>\n",
       "    <tr style=\"text-align: right;\">\n",
       "      <th></th>\n",
       "      <th>toothpaste brush milk cereals honey bread butter cheese yogurt</th>\n",
       "    </tr>\n",
       "  </thead>\n",
       "  <tbody>\n",
       "    <tr>\n",
       "      <th>0</th>\n",
       "      <td>milk cereals honey bread cheese razor gel shampoo</td>\n",
       "    </tr>\n",
       "    <tr>\n",
       "      <th>1</th>\n",
       "      <td>milk cereals honey cheese soap shampoo</td>\n",
       "    </tr>\n",
       "    <tr>\n",
       "      <th>2</th>\n",
       "      <td>honey bread butter cheese mouthwash toothpaste</td>\n",
       "    </tr>\n",
       "    <tr>\n",
       "      <th>3</th>\n",
       "      <td>cereals honey bread butter gel soap</td>\n",
       "    </tr>\n",
       "    <tr>\n",
       "      <th>4</th>\n",
       "      <td>cheesse yogurt milk cereals honey shampoo gel</td>\n",
       "    </tr>\n",
       "  </tbody>\n",
       "</table>\n",
       "</div>"
      ],
      "text/plain": [
       "  toothpaste brush milk cereals honey bread butter cheese yogurt\n",
       "0  milk cereals honey bread cheese razor gel shampoo            \n",
       "1             milk cereals honey cheese soap shampoo            \n",
       "2     honey bread butter cheese mouthwash toothpaste            \n",
       "3                cereals honey bread butter gel soap            \n",
       "4      cheesse yogurt milk cereals honey shampoo gel            "
      ]
     },
     "execution_count": 5,
     "metadata": {},
     "output_type": "execute_result"
    }
   ],
   "source": [
    "data.head()"
   ]
  },
  {
   "cell_type": "code",
   "execution_count": 6,
   "id": "78202723",
   "metadata": {},
   "outputs": [],
   "source": [
    "import matplotlib.pyplot as plt\n",
    "import numpy as np\n",
    "import pandas as pd\n",
    "from apyori import apriori"
   ]
  },
  {
   "cell_type": "code",
   "execution_count": 7,
   "id": "716b4423",
   "metadata": {},
   "outputs": [],
   "source": [
    "data=pd.read_csv(\"order_data.csv\")"
   ]
  },
  {
   "cell_type": "code",
   "execution_count": 8,
   "id": "c82e7686",
   "metadata": {},
   "outputs": [
    {
     "data": {
      "text/html": [
       "<div>\n",
       "<style scoped>\n",
       "    .dataframe tbody tr th:only-of-type {\n",
       "        vertical-align: middle;\n",
       "    }\n",
       "\n",
       "    .dataframe tbody tr th {\n",
       "        vertical-align: top;\n",
       "    }\n",
       "\n",
       "    .dataframe thead th {\n",
       "        text-align: right;\n",
       "    }\n",
       "</style>\n",
       "<table border=\"1\" class=\"dataframe\">\n",
       "  <thead>\n",
       "    <tr style=\"text-align: right;\">\n",
       "      <th></th>\n",
       "      <th>toothpaste brush milk cereals honey bread butter cheese yogurt</th>\n",
       "    </tr>\n",
       "  </thead>\n",
       "  <tbody>\n",
       "    <tr>\n",
       "      <th>0</th>\n",
       "      <td>milk cereals honey bread cheese razor gel shampoo</td>\n",
       "    </tr>\n",
       "    <tr>\n",
       "      <th>1</th>\n",
       "      <td>milk cereals honey cheese soap shampoo</td>\n",
       "    </tr>\n",
       "    <tr>\n",
       "      <th>2</th>\n",
       "      <td>honey bread butter cheese mouthwash toothpaste</td>\n",
       "    </tr>\n",
       "    <tr>\n",
       "      <th>3</th>\n",
       "      <td>cereals honey bread butter gel soap</td>\n",
       "    </tr>\n",
       "    <tr>\n",
       "      <th>4</th>\n",
       "      <td>cheesse yogurt milk cereals honey shampoo gel</td>\n",
       "    </tr>\n",
       "  </tbody>\n",
       "</table>\n",
       "</div>"
      ],
      "text/plain": [
       "  toothpaste brush milk cereals honey bread butter cheese yogurt\n",
       "0  milk cereals honey bread cheese razor gel shampoo            \n",
       "1             milk cereals honey cheese soap shampoo            \n",
       "2     honey bread butter cheese mouthwash toothpaste            \n",
       "3                cereals honey bread butter gel soap            \n",
       "4      cheesse yogurt milk cereals honey shampoo gel            "
      ]
     },
     "execution_count": 8,
     "metadata": {},
     "output_type": "execute_result"
    }
   ],
   "source": [
    "data.head()"
   ]
  },
  {
   "cell_type": "markdown",
   "id": "a7a0a994",
   "metadata": {},
   "source": [
    "# Apriori Algorithm"
   ]
  },
  {
   "cell_type": "code",
   "execution_count": 9,
   "id": "02c89c37",
   "metadata": {},
   "outputs": [],
   "source": [
    "import matplotlib.pyplot as plt\n",
    "import numpy as np\n",
    "import pandas as pd\n",
    "from apyori import apriori\n",
    "data=pd.read_csv(\"order_data.csv\")"
   ]
  },
  {
   "cell_type": "code",
   "execution_count": 10,
   "id": "9c5b6e39",
   "metadata": {},
   "outputs": [
    {
     "data": {
      "text/html": [
       "<div>\n",
       "<style scoped>\n",
       "    .dataframe tbody tr th:only-of-type {\n",
       "        vertical-align: middle;\n",
       "    }\n",
       "\n",
       "    .dataframe tbody tr th {\n",
       "        vertical-align: top;\n",
       "    }\n",
       "\n",
       "    .dataframe thead th {\n",
       "        text-align: right;\n",
       "    }\n",
       "</style>\n",
       "<table border=\"1\" class=\"dataframe\">\n",
       "  <thead>\n",
       "    <tr style=\"text-align: right;\">\n",
       "      <th></th>\n",
       "      <th>toothpaste brush milk cereals honey bread butter cheese yogurt</th>\n",
       "    </tr>\n",
       "  </thead>\n",
       "  <tbody>\n",
       "    <tr>\n",
       "      <th>0</th>\n",
       "      <td>milk cereals honey bread cheese razor gel shampoo</td>\n",
       "    </tr>\n",
       "    <tr>\n",
       "      <th>1</th>\n",
       "      <td>milk cereals honey cheese soap shampoo</td>\n",
       "    </tr>\n",
       "    <tr>\n",
       "      <th>2</th>\n",
       "      <td>honey bread butter cheese mouthwash toothpaste</td>\n",
       "    </tr>\n",
       "    <tr>\n",
       "      <th>3</th>\n",
       "      <td>cereals honey bread butter gel soap</td>\n",
       "    </tr>\n",
       "    <tr>\n",
       "      <th>4</th>\n",
       "      <td>cheesse yogurt milk cereals honey shampoo gel</td>\n",
       "    </tr>\n",
       "  </tbody>\n",
       "</table>\n",
       "</div>"
      ],
      "text/plain": [
       "  toothpaste brush milk cereals honey bread butter cheese yogurt\n",
       "0  milk cereals honey bread cheese razor gel shampoo            \n",
       "1             milk cereals honey cheese soap shampoo            \n",
       "2     honey bread butter cheese mouthwash toothpaste            \n",
       "3                cereals honey bread butter gel soap            \n",
       "4      cheesse yogurt milk cereals honey shampoo gel            "
      ]
     },
     "execution_count": 10,
     "metadata": {},
     "output_type": "execute_result"
    }
   ],
   "source": [
    "data.head()"
   ]
  },
  {
   "cell_type": "code",
   "execution_count": 12,
   "id": "6f83d766",
   "metadata": {},
   "outputs": [
    {
     "name": "stdout",
     "output_type": "stream",
     "text": [
      "[['toothpaste', 'brush', 'milk', 'cereals', 'honey', 'bread', 'butter', 'cheese', 'yogurt'], ['milk', 'cereals', 'honey', 'bread', 'cheese', 'razor', 'gel', 'shampoo', 'nan'], ['milk', 'cereals', 'honey', 'cheese', 'soap', 'shampoo', 'nan', 'nan', 'nan'], ['honey', 'bread', 'butter', 'cheese', 'mouthwash', 'toothpaste', 'nan', 'nan', 'nan'], ['cereals', 'honey', 'bread', 'butter', 'gel', 'soap', 'nan', 'nan', 'nan'], ['cheesse', 'yogurt', 'milk', 'cereals', 'honey', 'shampoo', 'gel', 'nan', 'nan'], ['honey', 'bread', 'cheese', 'razor', 'butter', 'yogurt', 'nan', 'nan', 'nan'], ['honey', 'bread', 'cheese', 'butter', 'milk', 'nan', 'nan', 'nan', 'nan'], ['cereals', 'butter', 'cookies', 'chips', 'nan', 'nan', 'nan', 'nan', 'nan'], ['cerals', 'cheese', 'yogurt', 'cookies', 'chips', 'nan', 'nan', 'nan', 'nan'], ['toothpaste', 'brush', 'gel', 'shampoo', 'soap', 'cookies', 'chips', 'nan', 'nan'], ['toothpaste', 'brush', 'gel', 'razor', 'mouthwash', 'milk', 'cookies', 'nan', 'nan'], ['razor', 'shampoo', 'gel', 'soap', 'bread', 'butter', 'nan', 'nan', 'nan'], ['brush', 'shampoo', 'gel', 'toothpaste', 'mouthwash', 'bread', 'cheese', 'nan', 'nan'], ['mouthwash', 'toothpaste', 'soap', 'shampoo', 'cheese', 'yogurt', 'nan', 'nan', 'nan'], ['razor', 'mouthwash', 'soap', 'butter', 'bread', 'cheese', 'nan', 'nan', 'nan'], ['shampoo', 'soap', 'gel', 'milk', 'honey', 'cereals', 'nan', 'nan', 'nan'], ['toothpaste', 'razor', 'gel', 'brush', 'mouthwash', 'shampoo', 'nan', 'nan', 'nan'], ['gel', 'razor', 'shampoo', 'milk', 'cereals', 'bread', 'cookies', 'nan', 'nan'], ['mouthwash', 'toothpaste', 'milk', 'bread', 'cookies', 'nan', 'nan', 'nan', 'nan']]\n",
      "Required Association No. 1 is: RelationRecord(items=frozenset({'brush', 'toothpaste'}), support=0.25, ordered_statistics=[OrderedStatistic(items_base=frozenset({'brush'}), items_add=frozenset({'toothpaste'}), confidence=1.0, lift=2.5), OrderedStatistic(items_base=frozenset({'toothpaste'}), items_add=frozenset({'brush'}), confidence=0.625, lift=2.5)])\n",
      "-------------------------\n",
      "Required Association No. 2 is: RelationRecord(items=frozenset({'toothpaste', 'mouthwash'}), support=0.3, ordered_statistics=[OrderedStatistic(items_base=frozenset({'mouthwash'}), items_add=frozenset({'toothpaste'}), confidence=0.8571428571428572, lift=2.142857142857143), OrderedStatistic(items_base=frozenset({'toothpaste'}), items_add=frozenset({'mouthwash'}), confidence=0.7499999999999999, lift=2.142857142857143)])\n",
      "-------------------------\n",
      "Required Association No. 3 is: RelationRecord(items=frozenset({'butter', 'honey', 'bread'}), support=0.25, ordered_statistics=[OrderedStatistic(items_base=frozenset({'butter'}), items_add=frozenset({'honey', 'bread'}), confidence=0.625, lift=2.0833333333333335), OrderedStatistic(items_base=frozenset({'honey', 'bread'}), items_add=frozenset({'butter'}), confidence=0.8333333333333334, lift=2.0833333333333335)])\n",
      "-------------------------\n"
     ]
    }
   ],
   "source": [
    "import matplotlib.pyplot as plt\n",
    "import pandas as pd\n",
    "import numpy as np\n",
    "from apyori import apriori\n",
    "data = pd.read_csv('order_data.csv',delimiter=\" \",header=None)\n",
    "data.head()\n",
    "data_list = []\n",
    "for row in range(0, 20):\n",
    "    data_list.append([str(data.values[row,column]) for column in range(0, 9)])\n",
    "print(data_list)\n",
    "algo = apriori(data_list, min_support=0.25, min_confidence=0.2, min_lift=2, min_length=2)\n",
    "results = list(algo)\n",
    "for i in range(0,3):\n",
    "    print(f\"Required Association No. {i+1} is: {results[i]}\")\n",
    "    print('-'*25)\n"
   ]
  },
  {
   "cell_type": "code",
   "execution_count": null,
   "id": "4c96a523",
   "metadata": {},
   "outputs": [],
   "source": []
  }
 ],
 "metadata": {
  "kernelspec": {
   "display_name": "Python 3 (ipykernel)",
   "language": "python",
   "name": "python3"
  },
  "language_info": {
   "codemirror_mode": {
    "name": "ipython",
    "version": 3
   },
   "file_extension": ".py",
   "mimetype": "text/x-python",
   "name": "python",
   "nbconvert_exporter": "python",
   "pygments_lexer": "ipython3",
   "version": "3.9.7"
  }
 },
 "nbformat": 4,
 "nbformat_minor": 5
}
