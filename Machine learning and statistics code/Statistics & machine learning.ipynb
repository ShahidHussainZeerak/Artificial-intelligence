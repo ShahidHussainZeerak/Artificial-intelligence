{
 "cells": [
  {
   "cell_type": "markdown",
   "id": "b44c410e",
   "metadata": {},
   "source": [
    "# WEEK 7 After Eid"
   ]
  },
  {
   "cell_type": "markdown",
   "id": "9faad265",
   "metadata": {},
   "source": [
    "Variance"
   ]
  },
  {
   "cell_type": "code",
   "execution_count": 62,
   "id": "8d1862a8",
   "metadata": {},
   "outputs": [
    {
     "data": {
      "text/plain": [
       "542"
      ]
     },
     "execution_count": 62,
     "metadata": {},
     "output_type": "execute_result"
    }
   ],
   "source": [
    "sum1=0\n",
    "lst=[32,111,138,28,59,77,97]\n",
    "for i in lst:\n",
    "    sum1=i+sum1\n",
    "sum1"
   ]
  },
  {
   "cell_type": "code",
   "execution_count": 63,
   "id": "7f10dcdc",
   "metadata": {},
   "outputs": [
    {
     "data": {
      "text/plain": [
       "77.42857142857143"
      ]
     },
     "execution_count": 63,
     "metadata": {},
     "output_type": "execute_result"
    }
   ],
   "source": [
    "m=sum1/7\n",
    "m"
   ]
  },
  {
   "cell_type": "code",
   "execution_count": 64,
   "id": "6b88848d",
   "metadata": {},
   "outputs": [
    {
     "data": {
      "text/plain": [
       "[-45.42857142857143,\n",
       " 33.57142857142857,\n",
       " 60.57142857142857,\n",
       " -49.42857142857143,\n",
       " -18.42857142857143,\n",
       " -0.4285714285714306,\n",
       " 19.57142857142857]"
      ]
     },
     "execution_count": 64,
     "metadata": {},
     "output_type": "execute_result"
    }
   ],
   "source": [
    "l=[]\n",
    "for i in lst:\n",
    "    d=i-m\n",
    "    l.append(d)\n",
    "l"
   ]
  },
  {
   "cell_type": "code",
   "execution_count": 65,
   "id": "0e314dca",
   "metadata": {},
   "outputs": [
    {
     "data": {
      "text/plain": [
       "[-45.42857142857143,\n",
       " 33.57142857142857,\n",
       " 60.57142857142857,\n",
       " -49.42857142857143,\n",
       " -18.42857142857143,\n",
       " -0.4285714285714306,\n",
       " 19.57142857142857]"
      ]
     },
     "execution_count": 65,
     "metadata": {},
     "output_type": "execute_result"
    }
   ],
   "source": [
    "l"
   ]
  },
  {
   "cell_type": "code",
   "execution_count": 66,
   "id": "476f7784",
   "metadata": {},
   "outputs": [
    {
     "data": {
      "text/plain": [
       "[2063.7551020408164,\n",
       " 1127.0408163265304,\n",
       " 3668.8979591836733,\n",
       " 2443.183673469388,\n",
       " 339.6122448979593,\n",
       " 0.18367346938775683,\n",
       " 383.04081632653055]"
      ]
     },
     "execution_count": 66,
     "metadata": {},
     "output_type": "execute_result"
    }
   ],
   "source": [
    "l1=[]\n",
    "for i in l:\n",
    "    s=i*i\n",
    "    l1.append(s)\n",
    "l1"
   ]
  },
  {
   "cell_type": "code",
   "execution_count": null,
   "id": "3be2681b",
   "metadata": {},
   "outputs": [],
   "source": [
    "s2=0\n",
    "for i in l1:\n",
    "    s2=i+s2\n",
    "s2\n",
    "var=s2/7\n",
    "var    "
   ]
  },
  {
   "cell_type": "code",
   "execution_count": null,
   "id": "3067612f",
   "metadata": {},
   "outputs": [],
   "source": [
    "import numpy "
   ]
  },
  {
   "cell_type": "code",
   "execution_count": null,
   "id": "2c177686",
   "metadata": {},
   "outputs": [],
   "source": [
    "ages=[5,31,43,48,50,41,7,11,15,39,80,82,32,2,8,6,25,36,27,61,31]\n",
    "x=numpy.percentile(ages,75)\n",
    "print(x)"
   ]
  },
  {
   "cell_type": "markdown",
   "id": "c1288be3",
   "metadata": {},
   "source": [
    "# Mean"
   ]
  },
  {
   "cell_type": "code",
   "execution_count": null,
   "id": "2076a7b0",
   "metadata": {},
   "outputs": [],
   "source": [
    "import numpy as np"
   ]
  },
  {
   "cell_type": "code",
   "execution_count": null,
   "id": "2608a69a",
   "metadata": {},
   "outputs": [],
   "source": [
    "speed = [99,86,87,88,111,86,103,87,94,78,77,85,86]\n",
    "x=np.mean(speed)\n",
    "x"
   ]
  },
  {
   "cell_type": "markdown",
   "id": "b99c1b4d",
   "metadata": {},
   "source": [
    "# Median"
   ]
  },
  {
   "cell_type": "code",
   "execution_count": null,
   "id": "f3b02226",
   "metadata": {},
   "outputs": [],
   "source": [
    "y=np.median(speed)\n",
    "y"
   ]
  },
  {
   "cell_type": "markdown",
   "id": "c5c45fa1",
   "metadata": {},
   "source": [
    "# Mode"
   ]
  },
  {
   "cell_type": "code",
   "execution_count": null,
   "id": "eb5149ab",
   "metadata": {},
   "outputs": [],
   "source": [
    "from scipy import stats\n",
    "z=stats.mode(speed)\n",
    "print(z)"
   ]
  },
  {
   "cell_type": "code",
   "execution_count": null,
   "id": "631dc9e8",
   "metadata": {},
   "outputs": [],
   "source": []
  },
  {
   "cell_type": "code",
   "execution_count": null,
   "id": "3a57c018",
   "metadata": {},
   "outputs": [],
   "source": []
  }
 ],
 "metadata": {
  "kernelspec": {
   "display_name": "Python 3 (ipykernel)",
   "language": "python",
   "name": "python3"
  },
  "language_info": {
   "codemirror_mode": {
    "name": "ipython",
    "version": 3
   },
   "file_extension": ".py",
   "mimetype": "text/x-python",
   "name": "python",
   "nbconvert_exporter": "python",
   "pygments_lexer": "ipython3",
   "version": "3.9.7"
  }
 },
 "nbformat": 4,
 "nbformat_minor": 5
}
