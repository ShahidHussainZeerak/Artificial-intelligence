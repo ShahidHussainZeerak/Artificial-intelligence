{
 "cells": [
  {
   "cell_type": "code",
   "execution_count": 17,
   "id": "880568df",
   "metadata": {},
   "outputs": [],
   "source": [
    "import matplotlib.pyplot as plt\n",
    "from scipy import stats"
   ]
  },
  {
   "cell_type": "code",
   "execution_count": 18,
   "id": "682e4c4f",
   "metadata": {},
   "outputs": [],
   "source": [
    "x=[5,7,8,7,2,17,2,9,4,11,12,9,6]\n",
    "y=[99,86,87,88,111,86,103,87,94,78,77,85,86]"
   ]
  },
  {
   "cell_type": "code",
   "execution_count": 19,
   "id": "ef4ad122",
   "metadata": {},
   "outputs": [],
   "source": [
    "slope,intercept,r,p,std_err=stats.linregress(x,y)"
   ]
  },
  {
   "cell_type": "code",
   "execution_count": 20,
   "id": "99576f0a",
   "metadata": {},
   "outputs": [
    {
     "data": {
      "image/png": "[encoded data removed]",
      "text/plain": [
       "<Figure size 432x288 with 1 Axes>"
      ]
     },
     "metadata": {
      "needs_background": "light"
     },
     "output_type": "display_data"
    }
   ],
   "source": [
    "def myfunc(x):\n",
    "    return slope*x+intercept\n",
    "mymodel=list(map(myfunc,x))\n",
    "plt.scatter(x,y)\n",
    "plt.plot(x,mymodel)\n",
    "plt.show()"
   ]
  },
  {
   "cell_type": "code",
   "execution_count": 21,
   "id": "5bfac7d3",
   "metadata": {},
   "outputs": [
    {
     "name": "stdout",
     "output_type": "stream",
     "text": [
      "-0.758591524376155\n"
     ]
    }
   ],
   "source": [
    "print(r) # check effeciency of model..r (1-(-1))"
   ]
  },
  {
   "cell_type": "code",
   "execution_count": 22,
   "id": "ff5a8e12",
   "metadata": {},
   "outputs": [
    {
     "name": "stdout",
     "output_type": "stream",
     "text": [
      "85.59308314937454\n"
     ]
    }
   ],
   "source": [
    "speed=myfunc(10) # the predicted speed at test point 10 is 85.59\n",
    "print(speed)"
   ]
  },
  {
   "cell_type": "code",
   "execution_count": 23,
   "id": "3c59cc5f",
   "metadata": {},
   "outputs": [
    {
     "name": "stdout",
     "output_type": "stream",
     "text": [
      "0.0026468739224561064\n"
     ]
    }
   ],
   "source": [
    "print(p)"
   ]
  },
  {
   "cell_type": "markdown",
   "id": "814c519a",
   "metadata": {},
   "source": [
    "# Bad Fit"
   ]
  },
  {
   "cell_type": "code",
   "execution_count": 26,
   "id": "70ce498f",
   "metadata": {},
   "outputs": [
    {
     "data": {
      "image/png": "[encoded data removed]",
      "text/plain": [
       "<Figure size 432x288 with 1 Axes>"
      ]
     },
     "metadata": {
      "needs_background": "light"
     },
     "output_type": "display_data"
    }
   ],
   "source": [
    "x=[89,43,36,36,95,10,66,34,38,20,26,29,48,64,6,5,36,66,72,40]\n",
    "y=[21,46,3,35,67,95,53,72,58,10,26,34,90,33,38,20,56,2,47,15]\n",
    "slope,intercept,r,p,std_err=stats.linregress(x,y)\n",
    "\n",
    "def myfun(x):\n",
    "    return slope*x+intercept\n",
    "mymodel=(list(map(myfunc,x)))\n",
    "plt.scatter(x,y)\n",
    "plt.plot(x,mymodel)\n",
    "plt.show()"
   ]
  },
  {
   "cell_type": "code",
   "execution_count": 28,
   "id": "1dc7722c",
   "metadata": {},
   "outputs": [
    {
     "name": "stdout",
     "output_type": "stream",
     "text": [
      "41.00894608487456\n"
     ]
    }
   ],
   "source": [
    "p=myfun(40)\n",
    "print(p)"
   ]
  },
  {
   "cell_type": "code",
   "execution_count": 29,
   "id": "87009b26",
   "metadata": {},
   "outputs": [
    {
     "name": "stdout",
     "output_type": "stream",
     "text": [
      "0.01331814154297491\n"
     ]
    }
   ],
   "source": [
    "print(r)"
   ]
  },
  {
   "cell_type": "code",
   "execution_count": 35,
   "id": "9a6629d4",
   "metadata": {},
   "outputs": [],
   "source": [
    "import numpy "
   ]
  },
  {
   "cell_type": "code",
   "execution_count": 43,
   "id": "ff5811c8",
   "metadata": {},
   "outputs": [
    {
     "data": {
      "image/png": "[encoded data removed]",
      "text/plain": [
       "<Figure size 432x288 with 1 Axes>"
      ]
     },
     "metadata": {
      "needs_background": "light"
     },
     "output_type": "display_data"
    }
   ],
   "source": [
    "x=[1,2,3,5,6,7,8,9,10,11,12,13,14,15,16,18,19,21]\n",
    "y=[100,90,80,60,60,55,60,65,70,70,75,76,78,79,90,99,99,100]\n",
    "mymodel=numpy.poly1d(numpy.polyfit(x,y,3))\n",
    "myline=numpy.linspace(1,22,100)\n",
    "plt.scatter(x,y)\n",
    "plt.plot(myline,mymodel(myline))\n",
    "plt.show()"
   ]
  },
  {
   "cell_type": "markdown",
   "id": "1577d8e8",
   "metadata": {},
   "source": [
    "# R2-Score:"
   ]
  },
  {
   "cell_type": "code",
   "execution_count": 47,
   "id": "2c0aa73e",
   "metadata": {},
   "outputs": [],
   "source": [
    "import numpy\n",
    "from sklearn.metrics import r2_score"
   ]
  },
  {
   "cell_type": "code",
   "execution_count": 48,
   "id": "7f385e2b",
   "metadata": {},
   "outputs": [
    {
     "name": "stdout",
     "output_type": "stream",
     "text": [
      "0.9545766104935188\n"
     ]
    }
   ],
   "source": [
    "print(r2_score(y,mymodel(x)))"
   ]
  },
  {
   "cell_type": "markdown",
   "id": "4c05319c",
   "metadata": {},
   "source": [
    "R values lie b/w 1 to -1...if the r value is 1/-1 or near to 1/-1 the the model fitting is good...but if the values near to zero then it means the model fitting is not not good. "
   ]
  },
  {
   "cell_type": "code",
   "execution_count": 49,
   "id": "92598ebe",
   "metadata": {},
   "outputs": [
    {
     "name": "stdout",
     "output_type": "stream",
     "text": [
      "96.91033015663963\n"
     ]
    }
   ],
   "source": [
    "speed=mymodel(18) # predict the speed of the car passing at the given point.\n",
    "print(speed)"
   ]
  },
  {
   "cell_type": "markdown",
   "id": "92a98812",
   "metadata": {},
   "source": [
    "# Bad Fit in R_score"
   ]
  },
  {
   "cell_type": "code",
   "execution_count": 53,
   "id": "04f5ff98",
   "metadata": {},
   "outputs": [
    {
     "data": {
      "image/png": "[encoded data removed]",
      "text/plain": [
       "<Figure size 432x288 with 1 Axes>"
      ]
     },
     "metadata": {
      "needs_background": "light"
     },
     "output_type": "display_data"
    }
   ],
   "source": [
    "x=[89,43,36,36,95,10,66,34,38,20,26,29,48,64,6,5,36,66,72,40]\n",
    "y=[21,46,3,35,67,95,53,72,58,10,26,34,90,33,38,20,56,2,47,15]\n",
    "mymodel=numpy.poly1d(numpy.polyfit(x,y,3))\n",
    "myline=numpy.linspace(2,95,100)\n",
    "plt.scatter(x,y)\n",
    "plt.plot(myline,mymodel(myline))\n",
    "plt.show()"
   ]
  },
  {
   "cell_type": "code",
   "execution_count": 55,
   "id": "54de6141",
   "metadata": {},
   "outputs": [
    {
     "name": "stdout",
     "output_type": "stream",
     "text": [
      "0.009952707566680652\n"
     ]
    }
   ],
   "source": [
    "print(r2_score(y,mymodel(x))) # r2_score of bad fit"
   ]
  },
  {
   "cell_type": "code",
   "execution_count": null,
   "id": "0a62c287",
   "metadata": {},
   "outputs": [],
   "source": []
  }
 ],
 "metadata": {
  "kernelspec": {
   "display_name": "Python 3 (ipykernel)",
   "language": "python",
   "name": "python3"
  },
  "language_info": {
   "codemirror_mode": {
    "name": "ipython",
    "version": 3
   },
   "file_extension": ".py",
   "mimetype": "text/x-python",
   "name": "python",
   "nbconvert_exporter": "python",
   "pygments_lexer": "ipython3",
   "version": "3.9.7"
  }
 },
 "nbformat": 4,
 "nbformat_minor": 5
}
